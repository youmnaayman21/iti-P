{
  "nbformat": 4,
  "nbformat_minor": 0,
  "metadata": {
    "colab": {
      "provenance": [],
      "authorship_tag": "ABX9TyPF29a+sOurp2lCBEmmwuLR",
      "include_colab_link": true
    },
    "kernelspec": {
      "name": "python3",
      "display_name": "Python 3"
    },
    "language_info": {
      "name": "python"
    }
  },
  "cells": [
    {
      "cell_type": "markdown",
      "metadata": {
        "id": "view-in-github",
        "colab_type": "text"
      },
      "source": [
        "<a href=\"https://colab.research.google.com/github/youmnaayman21/iti-P/blob/main/T3_ITI_.ipynb\" target=\"_parent\"><img src=\"https://colab.research.google.com/assets/colab-badge.svg\" alt=\"Open In Colab\"/></a>"
      ]
    },
    {
      "cell_type": "code",
      "execution_count": null,
      "metadata": {
        "id": "WNly-oiAKK6F"
      },
      "outputs": [],
      "source": [
        "import numpy as np"
      ]
    },
    {
      "cell_type": "code",
      "source": [
        "ages = [18, 21, 20, 19, 22, 23, 20, 21, 22, 19]\n",
        "manual_mean = sum(ages) / len(ages)\n",
        "numpy_mean = np.mean(ages)\n",
        "print(manual_mean)\n",
        "print(numpy_mean)"
      ],
      "metadata": {
        "colab": {
          "base_uri": "https://localhost:8080/"
        },
        "id": "D2BBh_oqKgVz",
        "outputId": "23c246dc-1998-4e7e-8002-0d7356fac44b"
      },
      "execution_count": null,
      "outputs": [
        {
          "output_type": "stream",
          "name": "stdout",
          "text": [
            "20.5\n",
            "20.5\n"
          ]
        }
      ]
    },
    {
      "cell_type": "code",
      "source": [
        "nums = [np.random.randint(10, 50) for _ in range(15)]\n",
        "sorted_nums = sorted(nums)\n",
        "n = len(sorted_nums)\n",
        "if n % 2 == 1:\n",
        "    median = sorted_nums[n // 2]\n",
        "else:\n",
        "    median = (sorted_nums[n//2 - 1] + sorted_nums[n//2]) / 2\n",
        "numpy_median = np.median(nums)\n",
        "print(nums)\n",
        "print(median)\n",
        "print(numpy_median)"
      ],
      "metadata": {
        "colab": {
          "base_uri": "https://localhost:8080/"
        },
        "id": "McBqDfULKgYm",
        "outputId": "c54c1546-a3af-4859-8460-2fdf6152a236"
      },
      "execution_count": null,
      "outputs": [
        {
          "output_type": "stream",
          "name": "stdout",
          "text": [
            "[30, 35, 42, 29, 16, 46, 37, 45, 16, 20, 11, 26, 32, 31, 15]\n",
            "30\n",
            "30.0\n"
          ]
        }
      ]
    },
    {
      "cell_type": "code",
      "source": [
        "min = min(nums)\n",
        "max = max(nums)\n",
        "range = max - min\n",
        "min = np.min(nums)\n",
        "max = np.max(nums)\n",
        "range = max - min\n",
        "print(min, max, range)\n",
        "print(min, max, range)"
      ],
      "metadata": {
        "colab": {
          "base_uri": "https://localhost:8080/"
        },
        "id": "P0eDrGCcKgbJ",
        "outputId": "74a3980c-c422-4936-b2b8-cd158be35596"
      },
      "execution_count": null,
      "outputs": [
        {
          "output_type": "stream",
          "name": "stdout",
          "text": [
            "11 46 35\n",
            "11 46 35\n"
          ]
        }
      ]
    },
    {
      "cell_type": "code",
      "source": [
        "data = [5, 7, 3, 7, 9, 10, 15, 7]\n",
        "mean_data = sum(data) / len(data)\n",
        "variance = sum((x - mean_data) ** 2 for x in data) / len(data)\n",
        "std = variance ** 0.5\n",
        "variance = np.var(data)\n",
        "std = np.std(data)\n",
        "print(mean_data)\n",
        "print(variance)\n",
        "print(std)\n",
        "print(variance)\n",
        "print(std)\n"
      ],
      "metadata": {
        "colab": {
          "base_uri": "https://localhost:8080/"
        },
        "id": "lRT1nBBuKgdz",
        "outputId": "8cdc4ae5-ccc8-41b5-8562-e024d10dde5d"
      },
      "execution_count": null,
      "outputs": [
        {
          "output_type": "stream",
          "name": "stdout",
          "text": [
            "7.875\n",
            "11.359375\n",
            "3.370367190678191\n",
            "11.359375\n",
            "3.370367190678191\n"
          ]
        }
      ]
    },
    {
      "cell_type": "code",
      "source": [
        "dataset = [np.random.randint(1, 100) for _ in range(20)]\n",
        "q1 = np.percentile(dataset, 25)\n",
        "q2 = np.percentile(dataset, 50)\n",
        "q3 = np.percentile(dataset, 75)\n",
        "iqr = q3 - q1\n",
        "print( dataset)\n",
        "print( q1,  q2, q3, iqr)"
      ],
      "metadata": {
        "colab": {
          "base_uri": "https://localhost:8080/"
        },
        "id": "iJl50B7fKggY",
        "outputId": "ed709d86-8bf1-4027-d8aa-8c1105717f8e"
      },
      "execution_count": null,
      "outputs": [
        {
          "output_type": "stream",
          "name": "stdout",
          "text": [
            "[56, 82, 92, 15, 17, 85, 98, 96, 66, 38, 98, 76, 72, 71, 12, 93, 76, 17, 12, 37]\n",
            "32.0 71.5 86.75 54.75\n"
          ]
        }
      ]
    },
    {
      "cell_type": "code",
      "source": [
        "def z_score_normalization(lst):\n",
        "    mean_val = sum(lst) / len(lst)\n",
        "    std_val = (sum((x - mean_val) ** 2 for x in lst) / len(lst)) ** 0.5\n",
        "    return [(x - mean_val) / std_val for x in lst]\n",
        "\n",
        "numbers = [10, 20, 30, 40, 50]\n",
        "z_scores = z_score_normalization(numbers)\n",
        "print( numbers)\n",
        "print(z_scores)"
      ],
      "metadata": {
        "colab": {
          "base_uri": "https://localhost:8080/"
        },
        "id": "liFmYRA6KgjD",
        "outputId": "24ce97ce-e6e9-4f07-d4f7-9f31dde3026e"
      },
      "execution_count": null,
      "outputs": [
        {
          "output_type": "stream",
          "name": "stdout",
          "text": [
            "[10, 20, 30, 40, 50]\n",
            "[-1.414213562373095, -0.7071067811865475, 0.0, 0.7071067811865475, 1.414213562373095]\n"
          ]
        }
      ]
    },
    {
      "cell_type": "code",
      "source": [
        "rand_nums = [np.random.randint(1, 100) for _ in range(20)]\n",
        "window_size = 3\n",
        "m_moving = [sum(rand_nums[i:i+window_size]) / window_size for i in range(len(rand_nums) - window_size + 1)]\n",
        "n_moving = np.convolve(rand_nums, np.ones(window_size)/window_size, mode='valid')\n",
        "print( rand_nums)\n",
        "print( m_moving)\n",
        "print( n_moving)"
      ],
      "metadata": {
        "colab": {
          "base_uri": "https://localhost:8080/"
        },
        "id": "Jyv_ZRqHKgl1",
        "outputId": "01534b1f-3548-44d2-d793-3180e0df8d2b"
      },
      "execution_count": null,
      "outputs": [
        {
          "output_type": "stream",
          "name": "stdout",
          "text": [
            "[37, 31, 64, 19, 62, 91, 89, 64, 35, 18, 3, 39, 77, 48, 58, 74, 66, 37, 42, 73]\n",
            "[44.0, 38.0, 48.333333333333336, 57.333333333333336, 80.66666666666667, 81.33333333333333, 62.666666666666664, 39.0, 18.666666666666668, 20.0, 39.666666666666664, 54.666666666666664, 61.0, 60.0, 66.0, 59.0, 48.333333333333336, 50.666666666666664]\n",
            "[44.         38.         48.33333333 57.33333333 80.66666667 81.33333333\n",
            " 62.66666667 39.         18.66666667 20.         39.66666667 54.66666667\n",
            " 61.         60.         66.         59.         48.33333333 50.66666667]\n"
          ]
        }
      ]
    },
    {
      "cell_type": "code",
      "source": [
        "data_with_outliers = list(range(1, 26)) + [300, 400]\n",
        "q1 = np.percentile(data_with_outliers, 25)\n",
        "q3 = np.percentile(data_with_outliers, 75)\n",
        "iqr = q3 - q1\n",
        "lower_bound = q1 - 1.5 * iqr\n",
        "upper_bound = q3 + 1.5 * iqr\n",
        "outliers = [x for x in data_with_outliers if x < lower_bound or x > upper_bound]\n",
        "print( data_with_outliers)\n",
        "print( outliers)"
      ],
      "metadata": {
        "id": "aLwfJLSlKgoM",
        "colab": {
          "base_uri": "https://localhost:8080/"
        },
        "outputId": "b3c7b28c-086c-48bf-dc12-9f82464b4833"
      },
      "execution_count": null,
      "outputs": [
        {
          "output_type": "stream",
          "name": "stdout",
          "text": [
            "[1, 2, 3, 4, 5, 6, 7, 8, 9, 10, 11, 12, 13, 14, 15, 16, 17, 18, 19, 20, 21, 22, 23, 24, 25, 300, 400]\n",
            "[300, 400]\n"
          ]
        }
      ]
    }
  ]
}