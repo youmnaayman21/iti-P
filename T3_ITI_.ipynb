{
  "nbformat": 4,
  "nbformat_minor": 0,
  "metadata": {
    "colab": {
      "provenance": [],
      "authorship_tag": "ABX9TyPF29a+sOurp2lCBEmmwuLR",
      "include_colab_link": true
    },
    "kernelspec": {
      "name": "python3",
      "display_name": "Python 3"
    },
    "language_info": {
      "name": "python"
    }
  },
  "cells": [
    {
      "cell_type": "markdown",
      "metadata": {
        "id": "view-in-github",
        "colab_type": "text"
      },
      "source": [
        "<a href=\"https://colab.research.google.com/github/youmnaayman21/iti-P/blob/main/T3_ITI_.ipynb\" target=\"_parent\"><img src=\"https://colab.research.google.com/assets/colab-badge.svg\" alt=\"Open In Colab\"/></a>"
      ]
    },
    {
      "cell_type": "code",
      "execution_count": 1,
      "metadata": {
        "id": "WNly-oiAKK6F"
      },
      "outputs": [],
      "source": [
        "import numpy as np"
      ]
    },
    {
      "cell_type": "code",
      "source": [
        "ages = [18, 21, 20, 19, 22, 23, 20, 21, 22, 19]\n",
        "manual_mean = sum(ages) / len(ages)\n",
        "numpy_mean = np.mean(ages)\n",
        "print(manual_mean)\n",
        "print(numpy_mean)"
      ],
      "metadata": {
        "colab": {
          "base_uri": "https://localhost:8080/"
        },
        "id": "D2BBh_oqKgVz",
        "outputId": "d0a53297-25ba-43e3-e31e-1549109a8a47"
      },
      "execution_count": 19,
      "outputs": [
        {
          "output_type": "stream",
          "name": "stdout",
          "text": [
            "20.5\n",
            "20.5\n"
          ]
        }
      ]
    },
    {
      "cell_type": "code",
      "source": [
        "nums = [np.random.randint(10, 50) for _ in range(15)]\n",
        "sorted_nums = sorted(nums)\n",
        "n = len(sorted_nums)\n",
        "if n % 2 == 1:\n",
        "    median = sorted_nums[n // 2]\n",
        "else:\n",
        "    median = (sorted_nums[n//2 - 1] + sorted_nums[n//2]) / 2\n",
        "numpy_median = np.median(nums)\n",
        "print(nums)\n",
        "print(median)\n",
        "print(numpy_median)"
      ],
      "metadata": {
        "colab": {
          "base_uri": "https://localhost:8080/"
        },
        "id": "McBqDfULKgYm",
        "outputId": "eddf626a-d15a-485a-b7bc-4b3c8fbe100b"
      },
      "execution_count": 20,
      "outputs": [
        {
          "output_type": "stream",
          "name": "stdout",
          "text": [
            "[17, 48, 40, 38, 47, 34, 25, 12, 29, 41, 11, 39, 18, 41, 28]\n",
            "34\n",
            "34.0\n"
          ]
        }
      ]
    },
    {
      "cell_type": "code",
      "source": [
        "min = min(nums)\n",
        "max = max(nums)\n",
        "range = max - min\n",
        "min = np.min(nums)\n",
        "max = np.max(nums)\n",
        "range = max - min\n",
        "print(min, max, range)\n",
        "print(min, max, range)"
      ],
      "metadata": {
        "colab": {
          "base_uri": "https://localhost:8080/"
        },
        "id": "P0eDrGCcKgbJ",
        "outputId": "f20bb431-d56d-4a82-943e-cadf2ef2a1cf"
      },
      "execution_count": 21,
      "outputs": [
        {
          "output_type": "stream",
          "name": "stdout",
          "text": [
            "11 48 37\n",
            "11 48 37\n"
          ]
        }
      ]
    },
    {
      "cell_type": "code",
      "source": [
        "data = [5, 7, 3, 7, 9, 10, 15, 7]\n",
        "mean_data = sum(data) / len(data)\n",
        "variance = sum((x - mean_data) ** 2 for x in data) / len(data)\n",
        "std = variance ** 0.5\n",
        "variance = np.var(data)\n",
        "std = np.std(data)\n",
        "print(mean_data)\n",
        "print(variance)\n",
        "print(std)\n",
        "print(variance)\n",
        "print(std)\n"
      ],
      "metadata": {
        "colab": {
          "base_uri": "https://localhost:8080/"
        },
        "id": "lRT1nBBuKgdz",
        "outputId": "aafb8af6-852f-47cf-fe61-cc13da67a20a"
      },
      "execution_count": 22,
      "outputs": [
        {
          "output_type": "stream",
          "name": "stdout",
          "text": [
            "7.875\n",
            "11.359375\n",
            "3.370367190678191\n",
            "11.359375\n",
            "3.370367190678191\n"
          ]
        }
      ]
    },
    {
      "cell_type": "code",
      "source": [
        "dataset = [np.random.randint(1, 100) for _ in range(20)]\n",
        "q1 = np.percentile(dataset, 25)\n",
        "q2 = np.percentile(dataset, 50)\n",
        "q3 = np.percentile(dataset, 75)\n",
        "iqr = q3 - q1\n",
        "print( dataset)\n",
        "print( q1,  q2, q3, iqr)"
      ],
      "metadata": {
        "colab": {
          "base_uri": "https://localhost:8080/"
        },
        "id": "iJl50B7fKggY",
        "outputId": "91cbb6bc-b4c1-470a-c6fc-1ca5694ba792"
      },
      "execution_count": 13,
      "outputs": [
        {
          "output_type": "stream",
          "name": "stdout",
          "text": [
            "[15, 93, 2, 99, 2, 56, 61, 72, 72, 5, 92, 76, 60, 28, 55, 34, 22, 5, 86, 72]\n",
            "20.25 58.0 73.0 52.75\n"
          ]
        }
      ]
    },
    {
      "cell_type": "code",
      "source": [
        "def z_score_normalization(lst):\n",
        "    mean_val = sum(lst) / len(lst)\n",
        "    std_val = (sum((x - mean_val) ** 2 for x in lst) / len(lst)) ** 0.5\n",
        "    return [(x - mean_val) / std_val for x in lst]\n",
        "\n",
        "numbers = [10, 20, 30, 40, 50]\n",
        "z_scores = z_score_normalization(numbers)\n",
        "print( numbers)\n",
        "print(z_scores)"
      ],
      "metadata": {
        "colab": {
          "base_uri": "https://localhost:8080/"
        },
        "id": "liFmYRA6KgjD",
        "outputId": "50e58d62-cc70-45fb-fd2c-c612342c03d4"
      },
      "execution_count": 17,
      "outputs": [
        {
          "output_type": "stream",
          "name": "stdout",
          "text": [
            "[10, 20, 30, 40, 50]\n",
            "[-1.414213562373095, -0.7071067811865475, 0.0, 0.7071067811865475, 1.414213562373095]\n"
          ]
        }
      ]
    },
    {
      "cell_type": "code",
      "source": [
        "rand_nums = [np.random.randint(1, 100) for _ in range(20)]\n",
        "window_size = 3\n",
        "m_moving = [sum(rand_nums[i:i+window_size]) / window_size for i in range(len(rand_nums) - window_size + 1)]\n",
        "n_moving = np.convolve(rand_nums, np.ones(window_size)/window_size, mode='valid')\n",
        "print( rand_nums)\n",
        "print( m_moving)\n",
        "print( n_moving)"
      ],
      "metadata": {
        "colab": {
          "base_uri": "https://localhost:8080/"
        },
        "id": "Jyv_ZRqHKgl1",
        "outputId": "9e21efef-a4fc-4a8b-b0bd-f8ab7afbee70"
      },
      "execution_count": 15,
      "outputs": [
        {
          "output_type": "stream",
          "name": "stdout",
          "text": [
            "[21, 20, 81, 41, 71, 5, 92, 9, 40, 47, 91, 14, 28, 66, 69, 39, 68, 22, 9, 63]\n",
            "[40.666666666666664, 47.333333333333336, 64.33333333333333, 39.0, 56.0, 35.333333333333336, 47.0, 32.0, 59.333333333333336, 50.666666666666664, 44.333333333333336, 36.0, 54.333333333333336, 58.0, 58.666666666666664, 43.0, 33.0, 31.333333333333332]\n",
            "[40.66666667 47.33333333 64.33333333 39.         56.         35.33333333\n",
            " 47.         32.         59.33333333 50.66666667 44.33333333 36.\n",
            " 54.33333333 58.         58.66666667 43.         33.         31.33333333]\n"
          ]
        }
      ]
    },
    {
      "cell_type": "code",
      "source": [
        "data_with_outliers = list(range(1, 26)) + [300, 400]\n",
        "q1 = np.percentile(data_with_outliers, 25)\n",
        "q3 = np.percentile(data_with_outliers, 75)\n",
        "iqr = q3 - q1\n",
        "lower_bound = q1 - 1.5 * iqr\n",
        "upper_bound = q3 + 1.5 * iqr\n",
        "outliers = [x for x in data_with_outliers if x < lower_bound or x > upper_bound]\n",
        "print( data_with_outliers)\n",
        "print( outliers)"
      ],
      "metadata": {
        "id": "aLwfJLSlKgoM",
        "colab": {
          "base_uri": "https://localhost:8080/"
        },
        "outputId": "e76e4e30-c749-45ed-85e1-3f5a74366fe8"
      },
      "execution_count": 18,
      "outputs": [
        {
          "output_type": "stream",
          "name": "stdout",
          "text": [
            "[1, 2, 3, 4, 5, 6, 7, 8, 9, 10, 11, 12, 13, 14, 15, 16, 17, 18, 19, 20, 21, 22, 23, 24, 25, 300, 400]\n",
            "[300, 400]\n"
          ]
        }
      ]
    }
  ]
}