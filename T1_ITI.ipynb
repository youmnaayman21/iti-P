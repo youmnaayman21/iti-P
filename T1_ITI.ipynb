{
  "cells": [
    {
      "cell_type": "markdown",
      "metadata": {
        "id": "view-in-github",
        "colab_type": "text"
      },
      "source": [
        "<a href=\"https://colab.research.google.com/github/youmnaayman21/iti-P/blob/main/T1_ITI.ipynb\" target=\"_parent\"><img src=\"https://colab.research.google.com/assets/colab-badge.svg\" alt=\"Open In Colab\"/></a>"
      ]
    },
    {
      "cell_type": "code",
      "execution_count": null,
      "metadata": {
        "colab": {
          "base_uri": "https://localhost:8080/"
        },
        "id": "mCtPCGKriGnb",
        "outputId": "30954e54-b411-4d84-95f5-1538d9052b16"
      },
      "outputs": [
        {
          "name": "stdout",
          "output_type": "stream",
          "text": [
            "7\n",
            "2\n",
            "27\n",
            "17\n",
            "1.6666666666666667\n",
            "1\n",
            "2\n"
          ]
        }
      ],
      "source": [
        "num1 = 3\n",
        "num2 = 4\n",
        "num3 = 5\n",
        "\n",
        "print( num1 + num2)\n",
        "print( num3 - num1)\n",
        "print(num1 * (num2 + num3))\n",
        "print(num1 * num2 + num3)\n",
        "print(num3 / num1)\n",
        "print(num3 // num1)\n",
        "print(num3 % num1)"
      ]
    },
    {
      "cell_type": "code",
      "execution_count": null,
      "metadata": {
        "colab": {
          "base_uri": "https://localhost:8080/"
        },
        "id": "Qo61MOeAmyY9",
        "outputId": "6e198592-3ed6-4bee-ea6f-f4e7c1bb5e00"
      },
      "outputs": [
        {
          "name": "stdout",
          "output_type": "stream",
          "text": [
            "7.0\n",
            "2.0\n",
            "27.0\n",
            "17.0\n",
            "1.6666666666666667\n",
            "1.0\n",
            "2.0\n"
          ]
        }
      ],
      "source": [
        "num1 = float(num1)\n",
        "num2 = float(num2)\n",
        "num3 = float(num3)\n",
        "\n",
        "print(num1 + num2)\n",
        "print(num3 - num1)\n",
        "print(num1 * (num2 + num3))\n",
        "print(num1 * num2 + num3)\n",
        "print(num3 / num1)\n",
        "print(num3 // num1)\n",
        "print(num3 % num1)"
      ]
    },
    {
      "cell_type": "code",
      "execution_count": null,
      "metadata": {
        "colab": {
          "base_uri": "https://localhost:8080/"
        },
        "id": "iTgBgeHnmybp",
        "outputId": "11abf76e-54cb-42f1-9f84-00e9673deaa3"
      },
      "outputs": [
        {
          "name": "stdout",
          "output_type": "stream",
          "text": [
            "3.6666666666666665\n",
            "8\n"
          ]
        }
      ],
      "source": [
        "x=1\n",
        "y=2\n",
        "z=3\n",
        "g=4\n",
        "print(x + y / z * g)\n",
        "print(y ** z)"
      ]
    },
    {
      "cell_type": "code",
      "source": [
        "num1 = -5\n",
        "num2 = 3.2\n",
        "num3 = 5.7\n",
        "num4 = 625\n",
        "\n",
        "print(abs(num1))\n",
        "\n",
        "# Round to nearest integer\n",
        "print(round(num2))\n",
        "print(round(num3))\n",
        "\n",
        "import math\n",
        "print(math.sqrt(num4))"
      ],
      "metadata": {
        "colab": {
          "base_uri": "https://localhost:8080/"
        },
        "id": "u0axaBp_3jHT",
        "outputId": "68865002-7971-4cea-f67d-d4687ec8a627"
      },
      "execution_count": null,
      "outputs": [
        {
          "output_type": "stream",
          "name": "stdout",
          "text": [
            "5\n",
            "3\n",
            "6\n",
            "25.0\n"
          ]
        }
      ]
    },
    {
      "cell_type": "code",
      "source": [
        "a = int(input(\"Enter first number: \"))\n",
        "b = int(input(\"Enter second number: \"))\n",
        "print(a * b)\n"
      ],
      "metadata": {
        "colab": {
          "base_uri": "https://localhost:8080/"
        },
        "id": "je--w_g93jhC",
        "outputId": "733c00d4-f50d-4bca-8b38-319eacfc7ac8"
      },
      "execution_count": null,
      "outputs": [
        {
          "output_type": "stream",
          "name": "stdout",
          "text": [
            "Enter first number: 2\n",
            "Enter second number: 3\n",
            "6\n"
          ]
        }
      ]
    },
    {
      "cell_type": "code",
      "execution_count": null,
      "metadata": {
        "colab": {
          "base_uri": "https://localhost:8080/"
        },
        "id": "5PuZSnGrmyes",
        "outputId": "4cb739f1-6ead-4252-fce8-4a50545175fa"
      },
      "outputs": [
        {
          "output_type": "stream",
          "name": "stdout",
          "text": [
            "Python is a 1000 times fun language\n",
            "PythonPythonPythonPythonPythonPythonPythonPythonPythonPython\n"
          ]
        }
      ],
      "source": [
        "str_a = \"Python\"\n",
        "str_b = \" is a \"\n",
        "str_c = \"times fun language\"\n",
        "num = 1000\n",
        "\n",
        "str_ab = str_a + str_b + str(num) + \" \" + str_c\n",
        "print(str_ab)\n",
        "\n",
        "str_a10 = str_a * 10\n",
        "print(str_a10)"
      ]
    },
    {
      "cell_type": "code",
      "source": [],
      "metadata": {
        "id": "a_eCNwy3Pipi"
      },
      "execution_count": null,
      "outputs": []
    },
    {
      "cell_type": "code",
      "execution_count": null,
      "metadata": {
        "colab": {
          "background_save": true,
          "base_uri": "https://localhost:8080/"
        },
        "id": "mTaTjDUNmykR",
        "outputId": "e06b73d7-2b97-4186-edbc-aa0a2adbaf75"
      },
      "outputs": [
        {
          "name": "stdout",
          "output_type": "stream",
          "text": [
            "Odd\n"
          ]
        }
      ],
      "source": [
        "num = int(input(\"enter a number: \"))\n",
        "if num % 2 == 0:\n",
        "    print(\"Even\")\n",
        "else:\n",
        "    print(\"Odd\")"
      ]
    },
    {
      "cell_type": "code",
      "execution_count": null,
      "metadata": {
        "colab": {
          "base_uri": "https://localhost:8080/"
        },
        "id": "EI3WP1sRmyn1",
        "outputId": "6987b24e-0a08-4dbf-dbf1-654340d21368"
      },
      "outputs": [
        {
          "name": "stdout",
          "output_type": "stream",
          "text": [
            "enter student score (0-100): 40\n",
            "Fail\n"
          ]
        }
      ],
      "source": [
        "score = int(input(\"enter student score (0-100): \"))\n",
        "if score >= 50:\n",
        "    print(\"Pass\")\n",
        "else:\n",
        "    print(\"Fail\")"
      ]
    },
    {
      "cell_type": "code",
      "execution_count": null,
      "metadata": {
        "colab": {
          "base_uri": "https://localhost:8080/"
        },
        "id": "gAU8-I47qNXA",
        "outputId": "26b7ae77-241e-489e-c8d5-0ecafa4ce74a"
      },
      "outputs": [
        {
          "name": "stdout",
          "output_type": "stream",
          "text": [
            " first number: 4\n",
            " second number: 8\n",
            " third number: 5\n",
            "Largest number is: 8\n"
          ]
        }
      ],
      "source": [
        "a = int(input(\" first number: \"))\n",
        "b = int(input(\" second number: \"))\n",
        "c = int(input(\" third number: \"))\n",
        "largest = max(a, b, c)\n",
        "print(\"Largest number is:\", largest)"
      ]
    },
    {
      "cell_type": "code",
      "execution_count": null,
      "metadata": {
        "colab": {
          "base_uri": "https://localhost:8080/"
        },
        "id": "cQ2pwhKGqNZS",
        "outputId": "1655f63a-98a3-4659-b3fe-5366b2bff3af"
      },
      "outputs": [
        {
          "name": "stdout",
          "output_type": "stream",
          "text": [
            "1\n",
            "2\n",
            "3\n",
            "4\n",
            "5\n",
            "6\n",
            "7\n",
            "8\n",
            "9\n",
            "10\n"
          ]
        }
      ],
      "source": [
        "for i in range(1, 11):\n",
        "    print(i)"
      ]
    },
    {
      "cell_type": "code",
      "execution_count": null,
      "metadata": {
        "colab": {
          "base_uri": "https://localhost:8080/"
        },
        "id": "1SaJaeNoqNbv",
        "outputId": "ebd76d30-c1b1-42e4-c00d-53b913eaccb8"
      },
      "outputs": [
        {
          "name": "stdout",
          "output_type": "stream",
          "text": [
            "Enter score (0-100): 54\n",
            "Grade: F\n"
          ]
        }
      ],
      "source": [
        "grade_score = int(input(\"Enter score (0-100): \"))\n",
        "if 90 <= grade_score <= 100:\n",
        "    print(\"Grade: A\")\n",
        "elif 80 <= grade_score <= 89:\n",
        "    print(\"Grade: B\")\n",
        "elif 70 <= grade_score <= 79:\n",
        "    print(\"Grade: C\")\n",
        "elif 60 <= grade_score <= 69:\n",
        "    print(\"Grade: D\")\n",
        "else:\n",
        "    print(\"Grade: F\")"
      ]
    },
    {
      "cell_type": "code",
      "execution_count": null,
      "metadata": {
        "colab": {
          "base_uri": "https://localhost:8080/"
        },
        "id": "uBnc6AIOqNeZ",
        "outputId": "d4bd9ba0-3614-475f-eff9-a96c95c887e8"
      },
      "outputs": [
        {
          "output_type": "stream",
          "name": "stdout",
          "text": [
            "Enter a number: 5\n",
            "5 x 1 = 5\n",
            "5 x 2 = 10\n",
            "5 x 3 = 15\n",
            "5 x 4 = 20\n",
            "5 x 5 = 25\n",
            "5 x 6 = 30\n",
            "5 x 7 = 35\n",
            "5 x 8 = 40\n",
            "5 x 9 = 45\n",
            "5 x 10 = 50\n"
          ]
        }
      ],
      "source": [
        "n = int(input(\"Enter a number: \"))\n",
        "for i in range(1, 11):\n",
        "    print(f\"{n} x {i} = {n * i}\")"
      ]
    },
    {
      "cell_type": "code",
      "execution_count": null,
      "metadata": {
        "colab": {
          "base_uri": "https://localhost:8080/"
        },
        "id": "_78maa_jqNg-",
        "outputId": "93fd4085-848b-4cd3-b896-9c577aab4b2b"
      },
      "outputs": [
        {
          "output_type": "stream",
          "name": "stdout",
          "text": [
            "650\n"
          ]
        }
      ],
      "source": [
        "even_sum = 0\n",
        "for i in range(1, 51):\n",
        "    if i % 2 == 0:\n",
        "        even_sum += i\n",
        "print(even_sum)"
      ]
    },
    {
      "cell_type": "code",
      "execution_count": null,
      "metadata": {
        "colab": {
          "base_uri": "https://localhost:8080/"
        },
        "id": "slCv5iedqNjy",
        "outputId": "c6dccfaa-ebb6-4bae-9210-7a9ab4289d96"
      },
      "outputs": [
        {
          "output_type": "stream",
          "name": "stdout",
          "text": [
            "Enter a number: 6\n",
            "720\n"
          ]
        }
      ],
      "source": [
        "fact_num = int(input(\"Enter a number: \"))\n",
        "fact = 1\n",
        "c = 1\n",
        "while c <= fact_num:\n",
        "    fact *= c\n",
        "    c += 1\n",
        "print(fact)"
      ]
    },
    {
      "cell_type": "code",
      "execution_count": null,
      "metadata": {
        "id": "LqNVYCSoqNmF"
      },
      "outputs": [],
      "source": []
    },
    {
      "cell_type": "code",
      "execution_count": null,
      "metadata": {
        "id": "ieL6Y6W2qNob"
      },
      "outputs": [],
      "source": []
    },
    {
      "cell_type": "code",
      "execution_count": null,
      "metadata": {
        "id": "JoWhPc_rqNrS"
      },
      "outputs": [],
      "source": []
    }
  ],
  "metadata": {
    "colab": {
      "provenance": [],
      "authorship_tag": "ABX9TyNzi6z8TukzWb9/6MJnbi7+",
      "include_colab_link": true
    },
    "kernelspec": {
      "display_name": "Python 3",
      "name": "python3"
    },
    "language_info": {
      "name": "python"
    }
  },
  "nbformat": 4,
  "nbformat_minor": 0
}